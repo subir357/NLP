{
 "cells": [
  {
   "cell_type": "code",
   "execution_count": 1,
   "metadata": {},
   "outputs": [],
   "source": [
    "import nltk\n",
    "from nltk.probability import FreqDist\n",
    "from nltk.corpus import stopwords"
   ]
  },
  {
   "cell_type": "code",
   "execution_count": null,
   "metadata": {},
   "outputs": [],
   "source": []
  },
  {
   "cell_type": "code",
   "execution_count": 2,
   "metadata": {},
   "outputs": [],
   "source": [
    "stw=stopwords.words('english')"
   ]
  },
  {
   "cell_type": "code",
   "execution_count": 3,
   "metadata": {},
   "outputs": [],
   "source": [
    "stop_word=set(stopwords.words(\"english\"))\n"
   ]
  },
  {
   "cell_type": "code",
   "execution_count": 4,
   "metadata": {},
   "outputs": [
    {
     "name": "stderr",
     "output_type": "stream",
     "text": [
      "[nltk_data] Downloading package gutenberg to /home/sd/nltk_data...\n",
      "[nltk_data]   Package gutenberg is already up-to-date!\n"
     ]
    },
    {
     "data": {
      "text/plain": [
       "True"
      ]
     },
     "execution_count": 4,
     "metadata": {},
     "output_type": "execute_result"
    }
   ],
   "source": [
    "nltk.download('gutenberg')"
   ]
  },
  {
   "cell_type": "code",
   "execution_count": 5,
   "metadata": {},
   "outputs": [],
   "source": [
    "#read the corpus\n",
    "words_bryant=nltk.Text(nltk.corpus.gutenberg.words('bryant-stories.txt'))\n",
    "words_austen=nltk.Text(nltk.corpus.gutenberg.words('austen-emma.txt'))"
   ]
  },
  {
   "cell_type": "code",
   "execution_count": 6,
   "metadata": {},
   "outputs": [],
   "source": [
    "#convert to smallcase\n",
    "words_bryant=[word.lower() for word in words_bryant if word.isalpha()]\n",
    "words_bryant=[word.lower() for word in words_bryant if word not in stop_word][:15000]\n",
    "#convert to smallcase\n",
    "words_austen=[word.lower() for word in words_austen if word.isalpha()]\n",
    "words_austen=[word.lower() for word in words_austen if word not in stop_word][:15000]"
   ]
  },
  {
   "cell_type": "code",
   "execution_count": 7,
   "metadata": {},
   "outputs": [],
   "source": [
    "TTR_bryent=len(set(words_bryant))/len(words_bryant)\n",
    "TTR_austen=len(set(words_austen))/len(words_austen)"
   ]
  },
  {
   "cell_type": "code",
   "execution_count": 9,
   "metadata": {},
   "outputs": [
    {
     "name": "stdout",
     "output_type": "stream",
     "text": [
      "number of token, vocabulary,TTR_BRYENT =  15000 2796 0.1864\n",
      "number of token, vocabulary,TTR_AUSTEN =  15000 3274 0.21826666666666666\n"
     ]
    }
   ],
   "source": [
    "print('number of token, vocabulary,TTR_BRYENT = ',len(words_bryant),len(set(words_bryant)),\n",
    "      TTR_bryent)\n",
    "print('number of token, vocabulary,TTR_AUSTEN = ',len(words_austen),len(set(words_austen)), TTR_austen)"
   ]
  }
 ],
 "metadata": {
  "kernelspec": {
   "display_name": "Python 3",
   "language": "python",
   "name": "python3"
  },
  "language_info": {
   "codemirror_mode": {
    "name": "ipython",
    "version": 3
   },
   "file_extension": ".py",
   "mimetype": "text/x-python",
   "name": "python",
   "nbconvert_exporter": "python",
   "pygments_lexer": "ipython3",
   "version": "3.8.5"
  }
 },
 "nbformat": 4,
 "nbformat_minor": 4
}
